{
 "metadata": {
  "name": "busfinder"
 },
 "nbformat": 3,
 "nbformat_minor": 0,
 "worksheets": [
  {
   "cells": [
    {
     "cell_type": "code",
     "collapsed": false,
     "input": [
      "import requests\n",
      "import webbrowser\n",
      "from bs4 import BeautifulSoup\n",
      "from time import sleep\n",
      "\n",
      "daves_lat = 41.980262\n",
      "daves_lon = -87.668452\n",
      "required_distance = 0.5/69\n",
      "\n",
      "while True:\n",
      "    r = requests.get('http://ctabustracker.com/bustime/map/getBusesForRoute.jsp?route=22')\n",
      "    if r.status_code > 200:\n",
      "        raise AssertionError\n",
      "    doc = BeautifulSoup(r.text, \"html5lib\")\n",
      "    buses = doc.findAll('bus')\n",
      "    params = []\n",
      "    markers = []\n",
      "    done_looking = False\n",
      "    for bus in buses:\n",
      "        if bus.find('d').string.startswith('North'):\n",
      "            bus_id = bus.find('id').string\n",
      "            lat = float(bus.find('lat').string)\n",
      "            lon = float(bus.find('lon').string)\n",
      "            distance = abs(lat - daves_lat) * 69\n",
      "            print \"[bus %s] lat: %f, lon: %f, distance: %f miles\" % (bus_id,  lat, lon, distance)\n",
      "            if distance <= 0.75:\n",
      "                params.append(\"markers=color:red|%s,%s\" % (lat, lon))\n",
      "                done_looking = True\n",
      "    if done_looking:\n",
      "        params.append(\"markers=color:blue|%s,%s\" % (daves_lat, daves_lon))\n",
      "        params.append(\"size=800x600\")\n",
      "        params.append(\"sensor=false\")\n",
      "        params.append(\"center=%f,%f\" % (daves_lat, daves_lon))\n",
      "        params.append(\"zoom=14\")\n",
      "        url = 'http://maps.googleapis.com/maps/api/staticmap?%s' % \"&\".join(params)\n",
      "        webbrowser.open(url, autoraise=True)\n",
      "        break\n",
      "    else:\n",
      "        sleep(10)\n"
     ],
     "language": "python",
     "metadata": {},
     "outputs": []
    }
   ],
   "metadata": {}
  }
 ]
}